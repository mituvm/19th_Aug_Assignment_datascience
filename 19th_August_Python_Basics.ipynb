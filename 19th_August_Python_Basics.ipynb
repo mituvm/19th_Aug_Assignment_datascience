{
 "cells": [
  {
   "cell_type": "code",
   "execution_count": 1,
   "id": "2c1ad87c",
   "metadata": {},
   "outputs": [],
   "source": [
    "# Q1.Swap the values of variables x and y without using temporary variable"
   ]
  },
  {
   "cell_type": "code",
   "execution_count": 2,
   "id": "b19c45a7",
   "metadata": {},
   "outputs": [],
   "source": [
    "# step1:Declaration and assignment of integer values"
   ]
  },
  {
   "cell_type": "code",
   "execution_count": 3,
   "id": "79126164",
   "metadata": {},
   "outputs": [],
   "source": [
    "x=10"
   ]
  },
  {
   "cell_type": "code",
   "execution_count": 4,
   "id": "109af9e0",
   "metadata": {},
   "outputs": [],
   "source": [
    "y=20"
   ]
  },
  {
   "cell_type": "code",
   "execution_count": 5,
   "id": "21129c82",
   "metadata": {},
   "outputs": [],
   "source": [
    "# step2:Function to swap variables"
   ]
  },
  {
   "cell_type": "code",
   "execution_count": 6,
   "id": "fcc9496f",
   "metadata": {},
   "outputs": [],
   "source": [
    "def swap(x,y):                                     #function that swaps values of two variables\n",
    "        print(\"Before Swapping: x = \", x, \", y = \", y)\n",
    "        x,y=y,x\n",
    "        print(\"After Swapping: x = \", x, \", y = \", y)"
   ]
  },
  {
   "cell_type": "code",
   "execution_count": 7,
   "id": "b602a748",
   "metadata": {},
   "outputs": [
    {
     "name": "stdout",
     "output_type": "stream",
     "text": [
      "Before Swapping: x =  10 , y =  20\n",
      "After Swapping: x =  20 , y =  10\n"
     ]
    }
   ],
   "source": [
    "swap(x,y)                                          #calls the swap function that was defined earlier"
   ]
  },
  {
   "cell_type": "code",
   "execution_count": 8,
   "id": "fe8abcea",
   "metadata": {},
   "outputs": [],
   "source": [
    "# Q1.Method_2 (using arithmetic operators)"
   ]
  },
  {
   "cell_type": "code",
   "execution_count": 9,
   "id": "e9e17020",
   "metadata": {},
   "outputs": [],
   "source": [
    "#Step 1: declaration and initialization of variables"
   ]
  },
  {
   "cell_type": "code",
   "execution_count": 10,
   "id": "49270787",
   "metadata": {},
   "outputs": [],
   "source": [
    "x=10"
   ]
  },
  {
   "cell_type": "code",
   "execution_count": 11,
   "id": "a7f152da",
   "metadata": {},
   "outputs": [],
   "source": [
    "y=20"
   ]
  },
  {
   "cell_type": "code",
   "execution_count": 12,
   "id": "51f25894",
   "metadata": {},
   "outputs": [
    {
     "name": "stdout",
     "output_type": "stream",
     "text": [
      "Before Swapping: x =  10 , y =  20\n"
     ]
    }
   ],
   "source": [
    "print(\"Before Swapping: x = \", x, \", y = \", y)"
   ]
  },
  {
   "cell_type": "code",
   "execution_count": 13,
   "id": "17866397",
   "metadata": {},
   "outputs": [],
   "source": [
    "# step 2:code to swap x and y"
   ]
  },
  {
   "cell_type": "code",
   "execution_count": 14,
   "id": "add8193e",
   "metadata": {},
   "outputs": [],
   "source": [
    "x=x+y                               # x now becomes 30"
   ]
  },
  {
   "cell_type": "code",
   "execution_count": 15,
   "id": "a7acd195",
   "metadata": {},
   "outputs": [],
   "source": [
    "y=x-y                               # y becomes 10"
   ]
  },
  {
   "cell_type": "code",
   "execution_count": 16,
   "id": "b12e1ec5",
   "metadata": {},
   "outputs": [],
   "source": [
    "x=x-y                               # x becomes 20"
   ]
  },
  {
   "cell_type": "code",
   "execution_count": 17,
   "id": "fc3dec18",
   "metadata": {},
   "outputs": [
    {
     "name": "stdout",
     "output_type": "stream",
     "text": [
      "After Swapping: x =  20 , y =  10\n"
     ]
    }
   ],
   "source": [
    "print(\"After Swapping: x = \", x, \", y = \", y)"
   ]
  },
  {
   "cell_type": "code",
   "execution_count": 1,
   "id": "ebd1111c",
   "metadata": {},
   "outputs": [],
   "source": [
    "#Q2. Calculate Area of a rectangle"
   ]
  },
  {
   "cell_type": "code",
   "execution_count": 2,
   "id": "70705f09",
   "metadata": {},
   "outputs": [],
   "source": [
    "#step 1: Input length and width of rectangle from user"
   ]
  },
  {
   "cell_type": "code",
   "execution_count": 9,
   "id": "9a801485",
   "metadata": {},
   "outputs": [
    {
     "name": "stdout",
     "output_type": "stream",
     "text": [
      "Enter the length of the rectangle(in cm): 10\n"
     ]
    }
   ],
   "source": [
    "l=float(input(\"Enter the length of the rectangle(in cm): \"))     #converting string to float as input()function returns a string"
   ]
  },
  {
   "cell_type": "code",
   "execution_count": 15,
   "id": "6e8b21de",
   "metadata": {},
   "outputs": [
    {
     "name": "stdout",
     "output_type": "stream",
     "text": [
      "Enter the width of the rectangle(in cm): 20\n"
     ]
    }
   ],
   "source": [
    "w=float(input(\"Enter the width of the rectangle(in cm): \"))"
   ]
  },
  {
   "cell_type": "code",
   "execution_count": 16,
   "id": "bd383dee",
   "metadata": {},
   "outputs": [],
   "source": [
    "# Step 2: Calculate the area of the rectangle using the formula: area = length * width"
   ]
  },
  {
   "cell_type": "code",
   "execution_count": 17,
   "id": "9e4f8dad",
   "metadata": {},
   "outputs": [],
   "source": [
    "area = l * w                                                     # Calculating the area by multiplying length and width"
   ]
  },
  {
   "cell_type": "code",
   "execution_count": 18,
   "id": "e78b8e62",
   "metadata": {},
   "outputs": [],
   "source": [
    "# Step 3: Display the calculated area to the user"
   ]
  },
  {
   "cell_type": "code",
   "execution_count": 19,
   "id": "4bb6e32a",
   "metadata": {},
   "outputs": [
    {
     "name": "stdout",
     "output_type": "stream",
     "text": [
      "The area of the rectangle is: 200.0 sq.cm\n"
     ]
    }
   ],
   "source": [
    "print(\"The area of the rectangle is:\", area,\"sq.cm\")             # Printing the area of rectangle"
   ]
  },
  {
   "cell_type": "code",
   "execution_count": 1,
   "id": "9932004a",
   "metadata": {},
   "outputs": [],
   "source": [
    "# Q3.Conversion of temperature from celsius to fahrenheit"
   ]
  },
  {
   "cell_type": "code",
   "execution_count": 2,
   "id": "c31becb1",
   "metadata": {},
   "outputs": [],
   "source": [
    "#Step 1: Get the temperature value in celsius"
   ]
  },
  {
   "cell_type": "code",
   "execution_count": 3,
   "id": "5805a1e2",
   "metadata": {},
   "outputs": [
    {
     "name": "stdout",
     "output_type": "stream",
     "text": [
      "Enter the temperature in Celsius: 36\n"
     ]
    }
   ],
   "source": [
    "celsius=float(input(\"Enter the temperature in Celsius: \"))"
   ]
  },
  {
   "cell_type": "code",
   "execution_count": 4,
   "id": "b69bcbd8",
   "metadata": {},
   "outputs": [],
   "source": [
    "# Step 2: converting celsius to fahrenheit using formula f=(c*9/5)+32 "
   ]
  },
  {
   "cell_type": "code",
   "execution_count": 5,
   "id": "4804a73e",
   "metadata": {},
   "outputs": [],
   "source": [
    "fahrenheit=(celsius*9/5)+32                                     #formula to convert celsius to fahrenheit"
   ]
  },
  {
   "cell_type": "code",
   "execution_count": 6,
   "id": "d13e6b1b",
   "metadata": {},
   "outputs": [],
   "source": [
    "# step 3: Display the converted temperature"
   ]
  },
  {
   "cell_type": "code",
   "execution_count": 9,
   "id": "2df66736",
   "metadata": {},
   "outputs": [
    {
     "name": "stdout",
     "output_type": "stream",
     "text": [
      "The corresponding temperature in fahrenheit is: 96.8\n"
     ]
    }
   ],
   "source": [
    "print(\"The corresponding temperature in fahrenheit is:\",fahrenheit)"
   ]
  },
  {
   "cell_type": "code",
   "execution_count": null,
   "id": "0ddad17f",
   "metadata": {},
   "outputs": [],
   "source": [
    "# STRING BASED QUESTIONS"
   ]
  },
  {
   "cell_type": "code",
   "execution_count": 10,
   "id": "e4a41bff",
   "metadata": {},
   "outputs": [],
   "source": [
    "# Q1.Program that takes a string as input and prints the length of the string"
   ]
  },
  {
   "cell_type": "code",
   "execution_count": 19,
   "id": "667f02b1",
   "metadata": {},
   "outputs": [],
   "source": [
    "# Step 1: Get string input from user"
   ]
  },
  {
   "cell_type": "code",
   "execution_count": 25,
   "id": "e7dea43f",
   "metadata": {},
   "outputs": [
    {
     "name": "stdout",
     "output_type": "stream",
     "text": [
      "Enter the string: python programming\n"
     ]
    }
   ],
   "source": [
    "string1=input(\"Enter the string: \")"
   ]
  },
  {
   "cell_type": "code",
   "execution_count": 26,
   "id": "48feb7e7",
   "metadata": {},
   "outputs": [],
   "source": [
    "# Step 2: Calculate the length of the string"
   ]
  },
  {
   "cell_type": "code",
   "execution_count": 27,
   "id": "b0b6e1b5",
   "metadata": {},
   "outputs": [],
   "source": [
    "string_length=len(string1)                                     #length of string using built in function-len()"
   ]
  },
  {
   "cell_type": "code",
   "execution_count": 28,
   "id": "2a36c091",
   "metadata": {},
   "outputs": [],
   "source": [
    "# Step 3: Display the length of the string"
   ]
  },
  {
   "cell_type": "code",
   "execution_count": 32,
   "id": "a1c16672",
   "metadata": {},
   "outputs": [
    {
     "name": "stdout",
     "output_type": "stream",
     "text": [
      "The length of the input string is: 18\n"
     ]
    }
   ],
   "source": [
    "print(\"The length of the input string is:\",string_length)"
   ]
  },
  {
   "cell_type": "code",
   "execution_count": 33,
   "id": "dd60b0ff",
   "metadata": {},
   "outputs": [],
   "source": [
    "# Q2.Program that takes a sentence from the user and counts the number of vowels (a, e, i, o, u) in the string."
   ]
  },
  {
   "cell_type": "code",
   "execution_count": 34,
   "id": "6ca067d6",
   "metadata": {},
   "outputs": [],
   "source": [
    "#Step 1:Get input from user"
   ]
  },
  {
   "cell_type": "code",
   "execution_count": 35,
   "id": "1bd88e9d",
   "metadata": {},
   "outputs": [
    {
     "name": "stdout",
     "output_type": "stream",
     "text": [
      "Enter the sentence: count the vowels in the sentence\n"
     ]
    }
   ],
   "source": [
    "input_sentence=input(\"Enter the sentence: \")"
   ]
  },
  {
   "cell_type": "code",
   "execution_count": 40,
   "id": "2fc0453c",
   "metadata": {},
   "outputs": [],
   "source": [
    "# Step 2: Initialization of variable to count vowels(a,e,i,o,u)"
   ]
  },
  {
   "cell_type": "code",
   "execution_count": 41,
   "id": "bdf5366c",
   "metadata": {},
   "outputs": [],
   "source": [
    "vowel=0"
   ]
  },
  {
   "cell_type": "code",
   "execution_count": 42,
   "id": "2d9a7025",
   "metadata": {},
   "outputs": [],
   "source": [
    "# Step 3:Iterate through the sentence to check for vowels"
   ]
  },
  {
   "cell_type": "code",
   "execution_count": 43,
   "id": "65cd0c75",
   "metadata": {},
   "outputs": [],
   "source": [
    "for char in input_sentence:\n",
    "    char_lower=char.lower()                                    #convert the sentence to lowercase\n",
    "    if char_lower in \"aeiou\":                                  #check if character is a vowel(a,e,i,o,u)\n",
    "        vowel+=1                                               #increment vowel count if character is a vowel"
   ]
  },
  {
   "cell_type": "code",
   "execution_count": 44,
   "id": "4177be35",
   "metadata": {},
   "outputs": [],
   "source": [
    "# Step 3: Display the count of vowels in the sentence"
   ]
  },
  {
   "cell_type": "code",
   "execution_count": 45,
   "id": "45471cbc",
   "metadata": {},
   "outputs": [
    {
     "name": "stdout",
     "output_type": "stream",
     "text": [
      "The number of vowels in the given sentence is: 10\n"
     ]
    }
   ],
   "source": [
    "print(\"The number of vowels in the given sentence is:\",vowel)"
   ]
  },
  {
   "cell_type": "code",
   "execution_count": 46,
   "id": "add3ea82",
   "metadata": {},
   "outputs": [],
   "source": [
    "# Q3.Reverse the order of characters in a string using string slicing and print the reversed string."
   ]
  },
  {
   "cell_type": "code",
   "execution_count": 47,
   "id": "877f901e",
   "metadata": {},
   "outputs": [],
   "source": [
    "# Step 1: get the input string from the user"
   ]
  },
  {
   "cell_type": "code",
   "execution_count": 53,
   "id": "c499c276",
   "metadata": {},
   "outputs": [
    {
     "name": "stdout",
     "output_type": "stream",
     "text": [
      "Enter the string:hello\n"
     ]
    }
   ],
   "source": [
    "input_string=input(\"Enter the string:\")"
   ]
  },
  {
   "cell_type": "code",
   "execution_count": 54,
   "id": "d9513d1b",
   "metadata": {},
   "outputs": [],
   "source": [
    "# Step 2: Reverse string using string slicing method"
   ]
  },
  {
   "cell_type": "code",
   "execution_count": 55,
   "id": "0097e912",
   "metadata": {},
   "outputs": [],
   "source": [
    "reversed_string=input_string[::-1]"
   ]
  },
  {
   "cell_type": "code",
   "execution_count": 56,
   "id": "94a9f04b",
   "metadata": {},
   "outputs": [],
   "source": [
    "# Step 3: Display the reversed string"
   ]
  },
  {
   "cell_type": "code",
   "execution_count": 57,
   "id": "03d69889",
   "metadata": {},
   "outputs": [
    {
     "name": "stdout",
     "output_type": "stream",
     "text": [
      "Reversed string is:  olleh\n"
     ]
    }
   ],
   "source": [
    "print(\"Reversed string is: \",reversed_string)"
   ]
  },
  {
   "cell_type": "code",
   "execution_count": 58,
   "id": "32575ec2",
   "metadata": {},
   "outputs": [],
   "source": [
    "# Q4.Program that takes a string as input and checks if it is a palindrome"
   ]
  },
  {
   "cell_type": "code",
   "execution_count": 59,
   "id": "77de2acd",
   "metadata": {},
   "outputs": [],
   "source": [
    "#Step 1:Get the input from the user"
   ]
  },
  {
   "cell_type": "code",
   "execution_count": 68,
   "id": "92eca5e9",
   "metadata": {},
   "outputs": [
    {
     "name": "stdout",
     "output_type": "stream",
     "text": [
      "Enter the string:hello\n"
     ]
    }
   ],
   "source": [
    "input_string=input(\"Enter the string:\")"
   ]
  },
  {
   "cell_type": "code",
   "execution_count": 69,
   "id": "c91eba04",
   "metadata": {},
   "outputs": [],
   "source": [
    "#Step 2:Remove spaces and convert string to lowercase"
   ]
  },
  {
   "cell_type": "code",
   "execution_count": 70,
   "id": "e5b1665d",
   "metadata": {},
   "outputs": [],
   "source": [
    "clean_string=input_string.replace(\" \",\"\")                            #Remove spaces in the string"
   ]
  },
  {
   "cell_type": "code",
   "execution_count": 71,
   "id": "1173d29f",
   "metadata": {},
   "outputs": [],
   "source": [
    "lower_string=input_string.lower()                                    #convert the string to lowercase"
   ]
  },
  {
   "cell_type": "code",
   "execution_count": 72,
   "id": "3e72c850",
   "metadata": {},
   "outputs": [],
   "source": [
    "#Step 3:Reverse the string"
   ]
  },
  {
   "cell_type": "code",
   "execution_count": 73,
   "id": "6c3f4683",
   "metadata": {},
   "outputs": [],
   "source": [
    "reverse_string=clean_string[::-1]                                    #reverse string using slicing"
   ]
  },
  {
   "cell_type": "code",
   "execution_count": 74,
   "id": "6f71e06e",
   "metadata": {},
   "outputs": [],
   "source": [
    "#Step 4:Compare input string with reverse string to check for palindrome"
   ]
  },
  {
   "cell_type": "code",
   "execution_count": 75,
   "id": "0aefe05f",
   "metadata": {},
   "outputs": [
    {
     "name": "stdout",
     "output_type": "stream",
     "text": [
      "The input string is not a palindrome\n"
     ]
    }
   ],
   "source": [
    "if clean_string==reverse_string:\n",
    "    print(\"The input string is a palindrome\")\n",
    "else:\n",
    "    print(\"The input string is not a palindrome\")"
   ]
  },
  {
   "cell_type": "code",
   "execution_count": 76,
   "id": "cd794ff5",
   "metadata": {},
   "outputs": [],
   "source": [
    "# Q5.program that takes a string as input and removes all the spaces from it. Print the modified string without spaces."
   ]
  },
  {
   "cell_type": "code",
   "execution_count": 77,
   "id": "db7fd4e0",
   "metadata": {},
   "outputs": [],
   "source": [
    "#Step 1:Get the input string from user"
   ]
  },
  {
   "cell_type": "code",
   "execution_count": 83,
   "id": "4a81bb5a",
   "metadata": {},
   "outputs": [
    {
     "name": "stdout",
     "output_type": "stream",
     "text": [
      "Enter the input string: this is a test file\n"
     ]
    }
   ],
   "source": [
    "input_string=input(\"Enter the input string: \")"
   ]
  },
  {
   "cell_type": "code",
   "execution_count": 84,
   "id": "64d95ec3",
   "metadata": {},
   "outputs": [],
   "source": [
    "#Step 2:Remove spaces from the input string"
   ]
  },
  {
   "cell_type": "code",
   "execution_count": 85,
   "id": "23fc3784",
   "metadata": {},
   "outputs": [],
   "source": [
    "clean_string=input_string.replace(\" \",\"\")                            #Remove spaces in the string"
   ]
  },
  {
   "cell_type": "code",
   "execution_count": 86,
   "id": "42f0a1f1",
   "metadata": {},
   "outputs": [],
   "source": [
    "#Step 3:Display the modified string by removing spaces "
   ]
  },
  {
   "cell_type": "code",
   "execution_count": 87,
   "id": "7f6b7c80",
   "metadata": {},
   "outputs": [
    {
     "name": "stdout",
     "output_type": "stream",
     "text": [
      "The modified string without spaces is: thisisatestfile\n"
     ]
    }
   ],
   "source": [
    "print(\"The modified string without spaces is:\",clean_string)         #display modified string without space"
   ]
  },
  {
   "cell_type": "code",
   "execution_count": null,
   "id": "45c776fe",
   "metadata": {},
   "outputs": [],
   "source": []
  }
 ],
 "metadata": {
  "kernelspec": {
   "display_name": "Python 3 (ipykernel)",
   "language": "python",
   "name": "python3"
  },
  "language_info": {
   "codemirror_mode": {
    "name": "ipython",
    "version": 3
   },
   "file_extension": ".py",
   "mimetype": "text/x-python",
   "name": "python",
   "nbconvert_exporter": "python",
   "pygments_lexer": "ipython3",
   "version": "3.11.4"
  }
 },
 "nbformat": 4,
 "nbformat_minor": 5
}
